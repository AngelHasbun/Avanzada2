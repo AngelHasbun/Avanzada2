{
 "cells": [
  {
   "cell_type": "markdown",
   "id": "5c6b3c18",
   "metadata": {},
   "source": [
    "# Importamos librerias"
   ]
  },
  {
   "cell_type": "code",
   "execution_count": 205,
   "id": "842bdfee",
   "metadata": {},
   "outputs": [],
   "source": [
    "import pandas as pd #libreria para manejar dataframes"
   ]
  },
  {
   "cell_type": "markdown",
   "id": "eaa5b4e1",
   "metadata": {},
   "source": [
    "# ASIGNAR LA RUTA"
   ]
  },
  {
   "cell_type": "code",
   "execution_count": 206,
   "id": "dfa1f5ca",
   "metadata": {},
   "outputs": [
    {
     "data": {
      "text/html": [
       "<div>\n",
       "<style scoped>\n",
       "    .dataframe tbody tr th:only-of-type {\n",
       "        vertical-align: middle;\n",
       "    }\n",
       "\n",
       "    .dataframe tbody tr th {\n",
       "        vertical-align: top;\n",
       "    }\n",
       "\n",
       "    .dataframe thead th {\n",
       "        text-align: right;\n",
       "    }\n",
       "</style>\n",
       "<table border=\"1\" class=\"dataframe\">\n",
       "  <thead>\n",
       "    <tr style=\"text-align: right;\">\n",
       "      <th></th>\n",
       "      <th>Estudiante</th>\n",
       "      <th>Cuenta</th>\n",
       "      <th>Cuatrimestre</th>\n",
       "      <th>Año</th>\n",
       "      <th>Mensualidades (L)</th>\n",
       "    </tr>\n",
       "  </thead>\n",
       "  <tbody>\n",
       "    <tr>\n",
       "      <th>0</th>\n",
       "      <td>NaN</td>\n",
       "      <td>C0001</td>\n",
       "      <td>1er</td>\n",
       "      <td>2021</td>\n",
       "      <td>861.11</td>\n",
       "    </tr>\n",
       "    <tr>\n",
       "      <th>1</th>\n",
       "      <td>José</td>\n",
       "      <td>C0002</td>\n",
       "      <td>2do</td>\n",
       "      <td>2022</td>\n",
       "      <td>2349.86</td>\n",
       "    </tr>\n",
       "    <tr>\n",
       "      <th>2</th>\n",
       "      <td>NaN</td>\n",
       "      <td>C0003</td>\n",
       "      <td>2do</td>\n",
       "      <td>2020</td>\n",
       "      <td>2180.45</td>\n",
       "    </tr>\n",
       "    <tr>\n",
       "      <th>3</th>\n",
       "      <td>Carla</td>\n",
       "      <td>C0004</td>\n",
       "      <td>2do</td>\n",
       "      <td>2023</td>\n",
       "      <td>4391.16</td>\n",
       "    </tr>\n",
       "    <tr>\n",
       "      <th>4</th>\n",
       "      <td>NaN</td>\n",
       "      <td>C0005</td>\n",
       "      <td>2do</td>\n",
       "      <td>2020</td>\n",
       "      <td>3233.95</td>\n",
       "    </tr>\n",
       "    <tr>\n",
       "      <th>...</th>\n",
       "      <td>...</td>\n",
       "      <td>...</td>\n",
       "      <td>...</td>\n",
       "      <td>...</td>\n",
       "      <td>...</td>\n",
       "    </tr>\n",
       "    <tr>\n",
       "      <th>95</th>\n",
       "      <td>Carlos</td>\n",
       "      <td>C0096</td>\n",
       "      <td>3er</td>\n",
       "      <td>2021</td>\n",
       "      <td>NaN</td>\n",
       "    </tr>\n",
       "    <tr>\n",
       "      <th>96</th>\n",
       "      <td>Lucía</td>\n",
       "      <td>C0097</td>\n",
       "      <td>2do</td>\n",
       "      <td>2024</td>\n",
       "      <td>1589.23</td>\n",
       "    </tr>\n",
       "    <tr>\n",
       "      <th>97</th>\n",
       "      <td>Carlos</td>\n",
       "      <td>C0098</td>\n",
       "      <td>3er</td>\n",
       "      <td>2021</td>\n",
       "      <td>NaN</td>\n",
       "    </tr>\n",
       "    <tr>\n",
       "      <th>98</th>\n",
       "      <td>Lucía</td>\n",
       "      <td>C0099</td>\n",
       "      <td>3er</td>\n",
       "      <td>2020</td>\n",
       "      <td>NaN</td>\n",
       "    </tr>\n",
       "    <tr>\n",
       "      <th>99</th>\n",
       "      <td>Ana</td>\n",
       "      <td>C0100</td>\n",
       "      <td>2do</td>\n",
       "      <td>2020</td>\n",
       "      <td>2307.06</td>\n",
       "    </tr>\n",
       "  </tbody>\n",
       "</table>\n",
       "<p>100 rows × 5 columns</p>\n",
       "</div>"
      ],
      "text/plain": [
       "   Estudiante Cuenta Cuatrimestre   Año  Mensualidades (L)\n",
       "0         NaN  C0001          1er  2021             861.11\n",
       "1        José  C0002          2do  2022            2349.86\n",
       "2         NaN  C0003          2do  2020            2180.45\n",
       "3       Carla  C0004          2do  2023            4391.16\n",
       "4         NaN  C0005          2do  2020            3233.95\n",
       "..        ...    ...          ...   ...                ...\n",
       "95     Carlos  C0096          3er  2021                NaN\n",
       "96      Lucía  C0097          2do  2024            1589.23\n",
       "97     Carlos  C0098          3er  2021                NaN\n",
       "98      Lucía  C0099          3er  2020                NaN\n",
       "99        Ana  C0100          2do  2020            2307.06\n",
       "\n",
       "[100 rows x 5 columns]"
      ]
     },
     "execution_count": 206,
     "metadata": {},
     "output_type": "execute_result"
    }
   ],
   "source": [
    "df=pd.read_csv(r\"C:\\Users\\Angel\\Desktop\\NotebookAvanzada2\\ESTUDIANTES.csv\")\n",
    "df"
   ]
  },
  {
   "cell_type": "markdown",
   "id": "71a45702",
   "metadata": {},
   "source": [
    "# Guardar la tabla con el nombre de df_ordenado y mostrar la tabla de cuatrimestre"
   ]
  },
  {
   "cell_type": "code",
   "execution_count": 207,
   "id": "d6140baf",
   "metadata": {},
   "outputs": [
    {
     "data": {
      "text/html": [
       "<div>\n",
       "<style scoped>\n",
       "    .dataframe tbody tr th:only-of-type {\n",
       "        vertical-align: middle;\n",
       "    }\n",
       "\n",
       "    .dataframe tbody tr th {\n",
       "        vertical-align: top;\n",
       "    }\n",
       "\n",
       "    .dataframe thead th {\n",
       "        text-align: right;\n",
       "    }\n",
       "</style>\n",
       "<table border=\"1\" class=\"dataframe\">\n",
       "  <thead>\n",
       "    <tr style=\"text-align: right;\">\n",
       "      <th></th>\n",
       "      <th>Estudiante</th>\n",
       "      <th>Cuenta</th>\n",
       "      <th>Cuatrimestre</th>\n",
       "      <th>Año</th>\n",
       "      <th>Mensualidades (L)</th>\n",
       "    </tr>\n",
       "  </thead>\n",
       "  <tbody>\n",
       "    <tr>\n",
       "      <th>0</th>\n",
       "      <td>NaN</td>\n",
       "      <td>C0001</td>\n",
       "      <td>1er</td>\n",
       "      <td>2021</td>\n",
       "      <td>861.11</td>\n",
       "    </tr>\n",
       "    <tr>\n",
       "      <th>31</th>\n",
       "      <td>Luis</td>\n",
       "      <td>C0032</td>\n",
       "      <td>1er</td>\n",
       "      <td>2020</td>\n",
       "      <td>NaN</td>\n",
       "    </tr>\n",
       "    <tr>\n",
       "      <th>32</th>\n",
       "      <td>Pedro</td>\n",
       "      <td>C0033</td>\n",
       "      <td>1er</td>\n",
       "      <td>2020</td>\n",
       "      <td>NaN</td>\n",
       "    </tr>\n",
       "    <tr>\n",
       "      <th>33</th>\n",
       "      <td>NaN</td>\n",
       "      <td>C0034</td>\n",
       "      <td>1er</td>\n",
       "      <td>2023</td>\n",
       "      <td>3123.56</td>\n",
       "    </tr>\n",
       "    <tr>\n",
       "      <th>36</th>\n",
       "      <td>Elena</td>\n",
       "      <td>C0037</td>\n",
       "      <td>1er</td>\n",
       "      <td>2022</td>\n",
       "      <td>2464.11</td>\n",
       "    </tr>\n",
       "    <tr>\n",
       "      <th>...</th>\n",
       "      <td>...</td>\n",
       "      <td>...</td>\n",
       "      <td>...</td>\n",
       "      <td>...</td>\n",
       "      <td>...</td>\n",
       "    </tr>\n",
       "    <tr>\n",
       "      <th>51</th>\n",
       "      <td>José</td>\n",
       "      <td>C0052</td>\n",
       "      <td>3er</td>\n",
       "      <td>2020</td>\n",
       "      <td>2800.58</td>\n",
       "    </tr>\n",
       "    <tr>\n",
       "      <th>54</th>\n",
       "      <td>María</td>\n",
       "      <td>C0055</td>\n",
       "      <td>3er</td>\n",
       "      <td>2023</td>\n",
       "      <td>507.63</td>\n",
       "    </tr>\n",
       "    <tr>\n",
       "      <th>55</th>\n",
       "      <td>María</td>\n",
       "      <td>C0056</td>\n",
       "      <td>3er</td>\n",
       "      <td>2020</td>\n",
       "      <td>2983.99</td>\n",
       "    </tr>\n",
       "    <tr>\n",
       "      <th>81</th>\n",
       "      <td>NaN</td>\n",
       "      <td>C0082</td>\n",
       "      <td>3er</td>\n",
       "      <td>2023</td>\n",
       "      <td>3492.36</td>\n",
       "    </tr>\n",
       "    <tr>\n",
       "      <th>24</th>\n",
       "      <td>NaN</td>\n",
       "      <td>C0025</td>\n",
       "      <td>3er</td>\n",
       "      <td>2022</td>\n",
       "      <td>3438.80</td>\n",
       "    </tr>\n",
       "  </tbody>\n",
       "</table>\n",
       "<p>100 rows × 5 columns</p>\n",
       "</div>"
      ],
      "text/plain": [
       "   Estudiante Cuenta Cuatrimestre   Año  Mensualidades (L)\n",
       "0         NaN  C0001          1er  2021             861.11\n",
       "31       Luis  C0032          1er  2020                NaN\n",
       "32      Pedro  C0033          1er  2020                NaN\n",
       "33        NaN  C0034          1er  2023            3123.56\n",
       "36      Elena  C0037          1er  2022            2464.11\n",
       "..        ...    ...          ...   ...                ...\n",
       "51       José  C0052          3er  2020            2800.58\n",
       "54      María  C0055          3er  2023             507.63\n",
       "55      María  C0056          3er  2020            2983.99\n",
       "81        NaN  C0082          3er  2023            3492.36\n",
       "24        NaN  C0025          3er  2022            3438.80\n",
       "\n",
       "[100 rows x 5 columns]"
      ]
     },
     "execution_count": 207,
     "metadata": {},
     "output_type": "execute_result"
    }
   ],
   "source": [
    "# Ordenar el DataFrame por la columna \"Cuatrimestre\" y guardarlo como df_ordenado\n",
    "df_ordenado = df.sort_values(by=\"Cuatrimestre\")\n",
    "df_ordenado"
   ]
  },
  {
   "cell_type": "markdown",
   "id": "f2fe729f",
   "metadata": {},
   "source": [
    "## mostrar las filas para verificar"
   ]
  },
  {
   "cell_type": "code",
   "execution_count": 208,
   "id": "6ca68d2a",
   "metadata": {},
   "outputs": [
    {
     "data": {
      "text/html": [
       "<div>\n",
       "<style scoped>\n",
       "    .dataframe tbody tr th:only-of-type {\n",
       "        vertical-align: middle;\n",
       "    }\n",
       "\n",
       "    .dataframe tbody tr th {\n",
       "        vertical-align: top;\n",
       "    }\n",
       "\n",
       "    .dataframe thead th {\n",
       "        text-align: right;\n",
       "    }\n",
       "</style>\n",
       "<table border=\"1\" class=\"dataframe\">\n",
       "  <thead>\n",
       "    <tr style=\"text-align: right;\">\n",
       "      <th></th>\n",
       "      <th>Estudiante</th>\n",
       "      <th>Cuenta</th>\n",
       "      <th>Cuatrimestre</th>\n",
       "      <th>Año</th>\n",
       "      <th>Mensualidades (L)</th>\n",
       "    </tr>\n",
       "  </thead>\n",
       "  <tbody>\n",
       "    <tr>\n",
       "      <th>0</th>\n",
       "      <td>NaN</td>\n",
       "      <td>C0001</td>\n",
       "      <td>1er</td>\n",
       "      <td>2021</td>\n",
       "      <td>861.11</td>\n",
       "    </tr>\n",
       "    <tr>\n",
       "      <th>31</th>\n",
       "      <td>Luis</td>\n",
       "      <td>C0032</td>\n",
       "      <td>1er</td>\n",
       "      <td>2020</td>\n",
       "      <td>NaN</td>\n",
       "    </tr>\n",
       "    <tr>\n",
       "      <th>32</th>\n",
       "      <td>Pedro</td>\n",
       "      <td>C0033</td>\n",
       "      <td>1er</td>\n",
       "      <td>2020</td>\n",
       "      <td>NaN</td>\n",
       "    </tr>\n",
       "    <tr>\n",
       "      <th>33</th>\n",
       "      <td>NaN</td>\n",
       "      <td>C0034</td>\n",
       "      <td>1er</td>\n",
       "      <td>2023</td>\n",
       "      <td>3123.56</td>\n",
       "    </tr>\n",
       "    <tr>\n",
       "      <th>36</th>\n",
       "      <td>Elena</td>\n",
       "      <td>C0037</td>\n",
       "      <td>1er</td>\n",
       "      <td>2022</td>\n",
       "      <td>2464.11</td>\n",
       "    </tr>\n",
       "  </tbody>\n",
       "</table>\n",
       "</div>"
      ],
      "text/plain": [
       "   Estudiante Cuenta Cuatrimestre   Año  Mensualidades (L)\n",
       "0         NaN  C0001          1er  2021             861.11\n",
       "31       Luis  C0032          1er  2020                NaN\n",
       "32      Pedro  C0033          1er  2020                NaN\n",
       "33        NaN  C0034          1er  2023            3123.56\n",
       "36      Elena  C0037          1er  2022            2464.11"
      ]
     },
     "execution_count": 208,
     "metadata": {},
     "output_type": "execute_result"
    }
   ],
   "source": [
    "# Mostramos las primeras 5 filas del DataFrame ordenado\n",
    "df_ordenado.head()\n"
   ]
  },
  {
   "cell_type": "markdown",
   "id": "8f9df170",
   "metadata": {},
   "source": [
    "# Agrupar el Dataframe por columna correspondiente \"Estudiante\""
   ]
  },
  {
   "cell_type": "code",
   "execution_count": 209,
   "id": "73a4ea40",
   "metadata": {},
   "outputs": [
    {
     "data": {
      "text/html": [
       "<div>\n",
       "<style scoped>\n",
       "    .dataframe tbody tr th:only-of-type {\n",
       "        vertical-align: middle;\n",
       "    }\n",
       "\n",
       "    .dataframe tbody tr th {\n",
       "        vertical-align: top;\n",
       "    }\n",
       "\n",
       "    .dataframe thead th {\n",
       "        text-align: right;\n",
       "    }\n",
       "</style>\n",
       "<table border=\"1\" class=\"dataframe\">\n",
       "  <thead>\n",
       "    <tr style=\"text-align: right;\">\n",
       "      <th></th>\n",
       "      <th>Año</th>\n",
       "      <th>Mensualidades (L)</th>\n",
       "    </tr>\n",
       "    <tr>\n",
       "      <th>Estudiante</th>\n",
       "      <th></th>\n",
       "      <th></th>\n",
       "    </tr>\n",
       "  </thead>\n",
       "  <tbody>\n",
       "    <tr>\n",
       "      <th>Ana</th>\n",
       "      <td>2021.500000</td>\n",
       "      <td>2205.902000</td>\n",
       "    </tr>\n",
       "    <tr>\n",
       "      <th>Carla</th>\n",
       "      <td>2021.800000</td>\n",
       "      <td>4253.097500</td>\n",
       "    </tr>\n",
       "    <tr>\n",
       "      <th>Carlos</th>\n",
       "      <td>2022.222222</td>\n",
       "      <td>2797.721429</td>\n",
       "    </tr>\n",
       "    <tr>\n",
       "      <th>Elena</th>\n",
       "      <td>2021.666667</td>\n",
       "      <td>2431.500000</td>\n",
       "    </tr>\n",
       "    <tr>\n",
       "      <th>José</th>\n",
       "      <td>2022.285714</td>\n",
       "      <td>3370.078333</td>\n",
       "    </tr>\n",
       "    <tr>\n",
       "      <th>Juan</th>\n",
       "      <td>2021.500000</td>\n",
       "      <td>3489.540000</td>\n",
       "    </tr>\n",
       "    <tr>\n",
       "      <th>Lucía</th>\n",
       "      <td>2021.200000</td>\n",
       "      <td>1499.086667</td>\n",
       "    </tr>\n",
       "    <tr>\n",
       "      <th>Luis</th>\n",
       "      <td>2021.833333</td>\n",
       "      <td>2615.536667</td>\n",
       "    </tr>\n",
       "    <tr>\n",
       "      <th>María</th>\n",
       "      <td>2020.888889</td>\n",
       "      <td>2587.983750</td>\n",
       "    </tr>\n",
       "    <tr>\n",
       "      <th>Pedro</th>\n",
       "      <td>2021.375000</td>\n",
       "      <td>1336.650000</td>\n",
       "    </tr>\n",
       "  </tbody>\n",
       "</table>\n",
       "</div>"
      ],
      "text/plain": [
       "                    Año  Mensualidades (L)\n",
       "Estudiante                                \n",
       "Ana         2021.500000        2205.902000\n",
       "Carla       2021.800000        4253.097500\n",
       "Carlos      2022.222222        2797.721429\n",
       "Elena       2021.666667        2431.500000\n",
       "José        2022.285714        3370.078333\n",
       "Juan        2021.500000        3489.540000\n",
       "Lucía       2021.200000        1499.086667\n",
       "Luis        2021.833333        2615.536667\n",
       "María       2020.888889        2587.983750\n",
       "Pedro       2021.375000        1336.650000"
      ]
     },
     "execution_count": 209,
     "metadata": {},
     "output_type": "execute_result"
    }
   ],
   "source": [
    "# Agrupar el DataFrame por la columna \"Estudiante\" y calcular la media de las columnas numéricas\n",
    "df_agrupado = df_ordenado.groupby(\"Estudiante\").mean(numeric_only=True)\n",
    "df_agrupado"
   ]
  },
  {
   "cell_type": "markdown",
   "id": "7da23233",
   "metadata": {},
   "source": [
    "# Mostramos el DataFrame agrupado"
   ]
  },
  {
   "cell_type": "code",
   "execution_count": 210,
   "id": "0bca3bd8",
   "metadata": {},
   "outputs": [
    {
     "data": {
      "text/html": [
       "<div>\n",
       "<style scoped>\n",
       "    .dataframe tbody tr th:only-of-type {\n",
       "        vertical-align: middle;\n",
       "    }\n",
       "\n",
       "    .dataframe tbody tr th {\n",
       "        vertical-align: top;\n",
       "    }\n",
       "\n",
       "    .dataframe thead th {\n",
       "        text-align: right;\n",
       "    }\n",
       "</style>\n",
       "<table border=\"1\" class=\"dataframe\">\n",
       "  <thead>\n",
       "    <tr style=\"text-align: right;\">\n",
       "      <th></th>\n",
       "      <th>Año</th>\n",
       "      <th>Mensualidades (L)</th>\n",
       "    </tr>\n",
       "    <tr>\n",
       "      <th>Estudiante</th>\n",
       "      <th></th>\n",
       "      <th></th>\n",
       "    </tr>\n",
       "  </thead>\n",
       "  <tbody>\n",
       "    <tr>\n",
       "      <th>Ana</th>\n",
       "      <td>2021.500000</td>\n",
       "      <td>2205.902000</td>\n",
       "    </tr>\n",
       "    <tr>\n",
       "      <th>Carla</th>\n",
       "      <td>2021.800000</td>\n",
       "      <td>4253.097500</td>\n",
       "    </tr>\n",
       "    <tr>\n",
       "      <th>Carlos</th>\n",
       "      <td>2022.222222</td>\n",
       "      <td>2797.721429</td>\n",
       "    </tr>\n",
       "    <tr>\n",
       "      <th>Elena</th>\n",
       "      <td>2021.666667</td>\n",
       "      <td>2431.500000</td>\n",
       "    </tr>\n",
       "    <tr>\n",
       "      <th>José</th>\n",
       "      <td>2022.285714</td>\n",
       "      <td>3370.078333</td>\n",
       "    </tr>\n",
       "  </tbody>\n",
       "</table>\n",
       "</div>"
      ],
      "text/plain": [
       "                    Año  Mensualidades (L)\n",
       "Estudiante                                \n",
       "Ana         2021.500000        2205.902000\n",
       "Carla       2021.800000        4253.097500\n",
       "Carlos      2022.222222        2797.721429\n",
       "Elena       2021.666667        2431.500000\n",
       "José        2022.285714        3370.078333"
      ]
     },
     "execution_count": 210,
     "metadata": {},
     "output_type": "execute_result"
    }
   ],
   "source": [
    "#Mostrar el DataFrame agrupado\n",
    "df_agrupado.head()"
   ]
  },
  {
   "cell_type": "markdown",
   "id": "4b776db7",
   "metadata": {},
   "source": [
    "# Sumamos los valores de la columna"
   ]
  },
  {
   "cell_type": "code",
   "execution_count": 211,
   "id": "66852ac8",
   "metadata": {},
   "outputs": [
    {
     "data": {
      "text/plain": [
       "Año                  202187.00\n",
       "Mensualidades (L)    206251.85\n",
       "dtype: float64"
      ]
     },
     "execution_count": 211,
     "metadata": {},
     "output_type": "execute_result"
    }
   ],
   "source": [
    "#sumar valores de la columna numerica mensualidad\n",
    "df.sum(numeric_only=True)"
   ]
  },
  {
   "cell_type": "markdown",
   "id": "0536e34b",
   "metadata": {},
   "source": [
    "# Mostramos las 3 categorias con mayor suma"
   ]
  },
  {
   "cell_type": "code",
   "execution_count": 212,
   "id": "87aad632",
   "metadata": {},
   "outputs": [
    {
     "ename": "KeyError",
     "evalue": "'Mensualidad (L)'",
     "output_type": "error",
     "traceback": [
      "\u001b[31m---------------------------------------------------------------------------\u001b[39m",
      "\u001b[31mKeyError\u001b[39m                                  Traceback (most recent call last)",
      "\u001b[32m~\\AppData\\Local\\Temp\\ipykernel_6696\\3046990951.py\u001b[39m in \u001b[36m?\u001b[39m\u001b[34m()\u001b[39m\n\u001b[32m      1\u001b[39m \u001b[38;5;66;03m# Mostramos las 3 categorias con mayor suma\u001b[39;00m\n\u001b[32m----> \u001b[39m\u001b[32m2\u001b[39m top3 = df.sort_values(by=\u001b[33m\"Mensualidad (L)\"\u001b[39m, ascending=\u001b[38;5;28;01mFalse\u001b[39;00m).head(\u001b[32m3\u001b[39m)\n\u001b[32m      3\u001b[39m top3\n",
      "\u001b[32mc:\\Users\\Angel\\Desktop\\NotebookAvanzada2\\.venv\\Lib\\site-packages\\pandas\\core\\frame.py\u001b[39m in \u001b[36m?\u001b[39m\u001b[34m(self, by, axis, ascending, inplace, kind, na_position, ignore_index, key)\u001b[39m\n\u001b[32m   7185\u001b[39m             )\n\u001b[32m   7186\u001b[39m         \u001b[38;5;28;01melif\u001b[39;00m len(by):\n\u001b[32m   7187\u001b[39m             \u001b[38;5;66;03m# len(by) == 1\u001b[39;00m\n\u001b[32m   7188\u001b[39m \n\u001b[32m-> \u001b[39m\u001b[32m7189\u001b[39m             k = self._get_label_or_level_values(by[\u001b[32m0\u001b[39m], axis=axis)\n\u001b[32m   7190\u001b[39m \n\u001b[32m   7191\u001b[39m             \u001b[38;5;66;03m# need to rewrap column in Series to apply key function\u001b[39;00m\n\u001b[32m   7192\u001b[39m             \u001b[38;5;28;01mif\u001b[39;00m key \u001b[38;5;28;01mis\u001b[39;00m \u001b[38;5;28;01mnot\u001b[39;00m \u001b[38;5;28;01mNone\u001b[39;00m:\n",
      "\u001b[32mc:\\Users\\Angel\\Desktop\\NotebookAvanzada2\\.venv\\Lib\\site-packages\\pandas\\core\\generic.py\u001b[39m in \u001b[36m?\u001b[39m\u001b[34m(self, key, axis)\u001b[39m\n\u001b[32m   1907\u001b[39m             values = self.xs(key, axis=other_axes[\u001b[32m0\u001b[39m])._values\n\u001b[32m   1908\u001b[39m         \u001b[38;5;28;01melif\u001b[39;00m self._is_level_reference(key, axis=axis):\n\u001b[32m   1909\u001b[39m             values = self.axes[axis].get_level_values(key)._values\n\u001b[32m   1910\u001b[39m         \u001b[38;5;28;01melse\u001b[39;00m:\n\u001b[32m-> \u001b[39m\u001b[32m1911\u001b[39m             \u001b[38;5;28;01mraise\u001b[39;00m KeyError(key)\n\u001b[32m   1912\u001b[39m \n\u001b[32m   1913\u001b[39m         \u001b[38;5;66;03m# Check for duplicates\u001b[39;00m\n\u001b[32m   1914\u001b[39m         \u001b[38;5;28;01mif\u001b[39;00m values.ndim > \u001b[32m1\u001b[39m:\n",
      "\u001b[31mKeyError\u001b[39m: 'Mensualidad (L)'"
     ]
    }
   ],
   "source": [
    "# Mostramos las 3 categorias con mayor suma\n",
    "top3 = df.sort_values(by=\"Mensualidad (L)\", ascending=False).head(3)\n",
    "top3"
   ]
  },
  {
   "cell_type": "markdown",
   "id": "1220869a",
   "metadata": {},
   "source": [
    "# Mostramos el registro con el valor maximo"
   ]
  },
  {
   "cell_type": "code",
   "execution_count": null,
   "id": "21f2dce7",
   "metadata": {},
   "outputs": [
    {
     "ename": "KeyError",
     "evalue": "'Mensualidad'",
     "output_type": "error",
     "traceback": [
      "\u001b[31m---------------------------------------------------------------------------\u001b[39m",
      "\u001b[31mKeyError\u001b[39m                                  Traceback (most recent call last)",
      "\u001b[36mFile \u001b[39m\u001b[32mc:\\Users\\Angel\\Desktop\\NotebookAvanzada2\\.venv\\Lib\\site-packages\\pandas\\core\\indexes\\base.py:3805\u001b[39m, in \u001b[36mIndex.get_loc\u001b[39m\u001b[34m(self, key)\u001b[39m\n\u001b[32m   3804\u001b[39m \u001b[38;5;28;01mtry\u001b[39;00m:\n\u001b[32m-> \u001b[39m\u001b[32m3805\u001b[39m     \u001b[38;5;28;01mreturn\u001b[39;00m \u001b[38;5;28;43mself\u001b[39;49m\u001b[43m.\u001b[49m\u001b[43m_engine\u001b[49m\u001b[43m.\u001b[49m\u001b[43mget_loc\u001b[49m\u001b[43m(\u001b[49m\u001b[43mcasted_key\u001b[49m\u001b[43m)\u001b[49m\n\u001b[32m   3806\u001b[39m \u001b[38;5;28;01mexcept\u001b[39;00m \u001b[38;5;167;01mKeyError\u001b[39;00m \u001b[38;5;28;01mas\u001b[39;00m err:\n",
      "\u001b[36mFile \u001b[39m\u001b[32mindex.pyx:167\u001b[39m, in \u001b[36mpandas._libs.index.IndexEngine.get_loc\u001b[39m\u001b[34m()\u001b[39m\n",
      "\u001b[36mFile \u001b[39m\u001b[32mindex.pyx:196\u001b[39m, in \u001b[36mpandas._libs.index.IndexEngine.get_loc\u001b[39m\u001b[34m()\u001b[39m\n",
      "\u001b[36mFile \u001b[39m\u001b[32mpandas\\\\_libs\\\\hashtable_class_helper.pxi:7081\u001b[39m, in \u001b[36mpandas._libs.hashtable.PyObjectHashTable.get_item\u001b[39m\u001b[34m()\u001b[39m\n",
      "\u001b[36mFile \u001b[39m\u001b[32mpandas\\\\_libs\\\\hashtable_class_helper.pxi:7089\u001b[39m, in \u001b[36mpandas._libs.hashtable.PyObjectHashTable.get_item\u001b[39m\u001b[34m()\u001b[39m\n",
      "\u001b[31mKeyError\u001b[39m: 'Mensualidad'",
      "\nThe above exception was the direct cause of the following exception:\n",
      "\u001b[31mKeyError\u001b[39m                                  Traceback (most recent call last)",
      "\u001b[36mCell\u001b[39m\u001b[36m \u001b[39m\u001b[32mIn[129]\u001b[39m\u001b[32m, line 2\u001b[39m\n\u001b[32m      1\u001b[39m \u001b[38;5;66;03m#mostrar el registro con el valor maximo utilizando .idxmax()\u001b[39;00m\n\u001b[32m----> \u001b[39m\u001b[32m2\u001b[39m df_agrupado.loc[\u001b[43mdf_agrupado\u001b[49m\u001b[43m[\u001b[49m\u001b[33;43m\"\u001b[39;49m\u001b[33;43mMensualidad\u001b[39;49m\u001b[33;43m\"\u001b[39;49m\u001b[43m]\u001b[49m.idxmax()]\n",
      "\u001b[36mFile \u001b[39m\u001b[32mc:\\Users\\Angel\\Desktop\\NotebookAvanzada2\\.venv\\Lib\\site-packages\\pandas\\core\\frame.py:4102\u001b[39m, in \u001b[36mDataFrame.__getitem__\u001b[39m\u001b[34m(self, key)\u001b[39m\n\u001b[32m   4100\u001b[39m \u001b[38;5;28;01mif\u001b[39;00m \u001b[38;5;28mself\u001b[39m.columns.nlevels > \u001b[32m1\u001b[39m:\n\u001b[32m   4101\u001b[39m     \u001b[38;5;28;01mreturn\u001b[39;00m \u001b[38;5;28mself\u001b[39m._getitem_multilevel(key)\n\u001b[32m-> \u001b[39m\u001b[32m4102\u001b[39m indexer = \u001b[38;5;28;43mself\u001b[39;49m\u001b[43m.\u001b[49m\u001b[43mcolumns\u001b[49m\u001b[43m.\u001b[49m\u001b[43mget_loc\u001b[49m\u001b[43m(\u001b[49m\u001b[43mkey\u001b[49m\u001b[43m)\u001b[49m\n\u001b[32m   4103\u001b[39m \u001b[38;5;28;01mif\u001b[39;00m is_integer(indexer):\n\u001b[32m   4104\u001b[39m     indexer = [indexer]\n",
      "\u001b[36mFile \u001b[39m\u001b[32mc:\\Users\\Angel\\Desktop\\NotebookAvanzada2\\.venv\\Lib\\site-packages\\pandas\\core\\indexes\\base.py:3812\u001b[39m, in \u001b[36mIndex.get_loc\u001b[39m\u001b[34m(self, key)\u001b[39m\n\u001b[32m   3807\u001b[39m     \u001b[38;5;28;01mif\u001b[39;00m \u001b[38;5;28misinstance\u001b[39m(casted_key, \u001b[38;5;28mslice\u001b[39m) \u001b[38;5;129;01mor\u001b[39;00m (\n\u001b[32m   3808\u001b[39m         \u001b[38;5;28misinstance\u001b[39m(casted_key, abc.Iterable)\n\u001b[32m   3809\u001b[39m         \u001b[38;5;129;01mand\u001b[39;00m \u001b[38;5;28many\u001b[39m(\u001b[38;5;28misinstance\u001b[39m(x, \u001b[38;5;28mslice\u001b[39m) \u001b[38;5;28;01mfor\u001b[39;00m x \u001b[38;5;129;01min\u001b[39;00m casted_key)\n\u001b[32m   3810\u001b[39m     ):\n\u001b[32m   3811\u001b[39m         \u001b[38;5;28;01mraise\u001b[39;00m InvalidIndexError(key)\n\u001b[32m-> \u001b[39m\u001b[32m3812\u001b[39m     \u001b[38;5;28;01mraise\u001b[39;00m \u001b[38;5;167;01mKeyError\u001b[39;00m(key) \u001b[38;5;28;01mfrom\u001b[39;00m\u001b[38;5;250m \u001b[39m\u001b[34;01merr\u001b[39;00m\n\u001b[32m   3813\u001b[39m \u001b[38;5;28;01mexcept\u001b[39;00m \u001b[38;5;167;01mTypeError\u001b[39;00m:\n\u001b[32m   3814\u001b[39m     \u001b[38;5;66;03m# If we have a listlike key, _check_indexing_error will raise\u001b[39;00m\n\u001b[32m   3815\u001b[39m     \u001b[38;5;66;03m#  InvalidIndexError. Otherwise we fall through and re-raise\u001b[39;00m\n\u001b[32m   3816\u001b[39m     \u001b[38;5;66;03m#  the TypeError.\u001b[39;00m\n\u001b[32m   3817\u001b[39m     \u001b[38;5;28mself\u001b[39m._check_indexing_error(key)\n",
      "\u001b[31mKeyError\u001b[39m: 'Mensualidad'"
     ]
    }
   ],
   "source": [
    "#mostrar el registro con el valor maximo utilizando .idxmax()\n",
    "df_agrupado.loc[df_agrupado[\"Mensualidad\"].idxmax()]"
   ]
  },
  {
   "cell_type": "markdown",
   "id": "9389bfa8",
   "metadata": {},
   "source": [
    "guardamos la fila en una variable llamada registro_mayor"
   ]
  },
  {
   "cell_type": "code",
   "execution_count": null,
   "id": "b47cc301",
   "metadata": {},
   "outputs": [
    {
     "ename": "KeyError",
     "evalue": "'Mensualidad'",
     "output_type": "error",
     "traceback": [
      "\u001b[31m---------------------------------------------------------------------------\u001b[39m",
      "\u001b[31mKeyError\u001b[39m                                  Traceback (most recent call last)",
      "\u001b[36mFile \u001b[39m\u001b[32mc:\\Users\\Angel\\Desktop\\NotebookAvanzada2\\.venv\\Lib\\site-packages\\pandas\\core\\indexes\\base.py:3805\u001b[39m, in \u001b[36mIndex.get_loc\u001b[39m\u001b[34m(self, key)\u001b[39m\n\u001b[32m   3804\u001b[39m \u001b[38;5;28;01mtry\u001b[39;00m:\n\u001b[32m-> \u001b[39m\u001b[32m3805\u001b[39m     \u001b[38;5;28;01mreturn\u001b[39;00m \u001b[38;5;28;43mself\u001b[39;49m\u001b[43m.\u001b[49m\u001b[43m_engine\u001b[49m\u001b[43m.\u001b[49m\u001b[43mget_loc\u001b[49m\u001b[43m(\u001b[49m\u001b[43mcasted_key\u001b[49m\u001b[43m)\u001b[49m\n\u001b[32m   3806\u001b[39m \u001b[38;5;28;01mexcept\u001b[39;00m \u001b[38;5;167;01mKeyError\u001b[39;00m \u001b[38;5;28;01mas\u001b[39;00m err:\n",
      "\u001b[36mFile \u001b[39m\u001b[32mindex.pyx:167\u001b[39m, in \u001b[36mpandas._libs.index.IndexEngine.get_loc\u001b[39m\u001b[34m()\u001b[39m\n",
      "\u001b[36mFile \u001b[39m\u001b[32mindex.pyx:196\u001b[39m, in \u001b[36mpandas._libs.index.IndexEngine.get_loc\u001b[39m\u001b[34m()\u001b[39m\n",
      "\u001b[36mFile \u001b[39m\u001b[32mpandas\\\\_libs\\\\hashtable_class_helper.pxi:7081\u001b[39m, in \u001b[36mpandas._libs.hashtable.PyObjectHashTable.get_item\u001b[39m\u001b[34m()\u001b[39m\n",
      "\u001b[36mFile \u001b[39m\u001b[32mpandas\\\\_libs\\\\hashtable_class_helper.pxi:7089\u001b[39m, in \u001b[36mpandas._libs.hashtable.PyObjectHashTable.get_item\u001b[39m\u001b[34m()\u001b[39m\n",
      "\u001b[31mKeyError\u001b[39m: 'Mensualidad'",
      "\nThe above exception was the direct cause of the following exception:\n",
      "\u001b[31mKeyError\u001b[39m                                  Traceback (most recent call last)",
      "\u001b[36mCell\u001b[39m\u001b[36m \u001b[39m\u001b[32mIn[149]\u001b[39m\u001b[32m, line 2\u001b[39m\n\u001b[32m      1\u001b[39m \u001b[38;5;66;03m#guardamos esta fila en una variable llamada registro_mayor y mostramos el resultado\u001b[39;00m\n\u001b[32m----> \u001b[39m\u001b[32m2\u001b[39m registro_mayor = df_agrupado.loc[\u001b[43mdf_agrupado\u001b[49m\u001b[43m[\u001b[49m\u001b[33;43m\"\u001b[39;49m\u001b[33;43mMensualidad\u001b[39;49m\u001b[33;43m\"\u001b[39;49m\u001b[43m]\u001b[49m.idxmax()]\n",
      "\u001b[36mFile \u001b[39m\u001b[32mc:\\Users\\Angel\\Desktop\\NotebookAvanzada2\\.venv\\Lib\\site-packages\\pandas\\core\\frame.py:4102\u001b[39m, in \u001b[36mDataFrame.__getitem__\u001b[39m\u001b[34m(self, key)\u001b[39m\n\u001b[32m   4100\u001b[39m \u001b[38;5;28;01mif\u001b[39;00m \u001b[38;5;28mself\u001b[39m.columns.nlevels > \u001b[32m1\u001b[39m:\n\u001b[32m   4101\u001b[39m     \u001b[38;5;28;01mreturn\u001b[39;00m \u001b[38;5;28mself\u001b[39m._getitem_multilevel(key)\n\u001b[32m-> \u001b[39m\u001b[32m4102\u001b[39m indexer = \u001b[38;5;28;43mself\u001b[39;49m\u001b[43m.\u001b[49m\u001b[43mcolumns\u001b[49m\u001b[43m.\u001b[49m\u001b[43mget_loc\u001b[49m\u001b[43m(\u001b[49m\u001b[43mkey\u001b[49m\u001b[43m)\u001b[49m\n\u001b[32m   4103\u001b[39m \u001b[38;5;28;01mif\u001b[39;00m is_integer(indexer):\n\u001b[32m   4104\u001b[39m     indexer = [indexer]\n",
      "\u001b[36mFile \u001b[39m\u001b[32mc:\\Users\\Angel\\Desktop\\NotebookAvanzada2\\.venv\\Lib\\site-packages\\pandas\\core\\indexes\\base.py:3812\u001b[39m, in \u001b[36mIndex.get_loc\u001b[39m\u001b[34m(self, key)\u001b[39m\n\u001b[32m   3807\u001b[39m     \u001b[38;5;28;01mif\u001b[39;00m \u001b[38;5;28misinstance\u001b[39m(casted_key, \u001b[38;5;28mslice\u001b[39m) \u001b[38;5;129;01mor\u001b[39;00m (\n\u001b[32m   3808\u001b[39m         \u001b[38;5;28misinstance\u001b[39m(casted_key, abc.Iterable)\n\u001b[32m   3809\u001b[39m         \u001b[38;5;129;01mand\u001b[39;00m \u001b[38;5;28many\u001b[39m(\u001b[38;5;28misinstance\u001b[39m(x, \u001b[38;5;28mslice\u001b[39m) \u001b[38;5;28;01mfor\u001b[39;00m x \u001b[38;5;129;01min\u001b[39;00m casted_key)\n\u001b[32m   3810\u001b[39m     ):\n\u001b[32m   3811\u001b[39m         \u001b[38;5;28;01mraise\u001b[39;00m InvalidIndexError(key)\n\u001b[32m-> \u001b[39m\u001b[32m3812\u001b[39m     \u001b[38;5;28;01mraise\u001b[39;00m \u001b[38;5;167;01mKeyError\u001b[39;00m(key) \u001b[38;5;28;01mfrom\u001b[39;00m\u001b[38;5;250m \u001b[39m\u001b[34;01merr\u001b[39;00m\n\u001b[32m   3813\u001b[39m \u001b[38;5;28;01mexcept\u001b[39;00m \u001b[38;5;167;01mTypeError\u001b[39;00m:\n\u001b[32m   3814\u001b[39m     \u001b[38;5;66;03m# If we have a listlike key, _check_indexing_error will raise\u001b[39;00m\n\u001b[32m   3815\u001b[39m     \u001b[38;5;66;03m#  InvalidIndexError. Otherwise we fall through and re-raise\u001b[39;00m\n\u001b[32m   3816\u001b[39m     \u001b[38;5;66;03m#  the TypeError.\u001b[39;00m\n\u001b[32m   3817\u001b[39m     \u001b[38;5;28mself\u001b[39m._check_indexing_error(key)\n",
      "\u001b[31mKeyError\u001b[39m: 'Mensualidad'"
     ]
    }
   ],
   "source": [
    "#guardamos esta fila en una variable llamada registro_mayor y mostramos el resultado\n",
    "registro_mayor = df_agrupado.loc[df_agrupado[\"Mensualidad\"].idxmax()]"
   ]
  }
 ],
 "metadata": {
  "kernelspec": {
   "display_name": ".venv",
   "language": "python",
   "name": "python3"
  },
  "language_info": {
   "codemirror_mode": {
    "name": "ipython",
    "version": 3
   },
   "file_extension": ".py",
   "mimetype": "text/x-python",
   "name": "python",
   "nbconvert_exporter": "python",
   "pygments_lexer": "ipython3",
   "version": "3.13.3"
  }
 },
 "nbformat": 4,
 "nbformat_minor": 5
}

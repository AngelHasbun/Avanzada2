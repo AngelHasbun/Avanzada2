{
 "cells": [
  {
   "cell_type": "code",
   "execution_count": 13,
   "id": "e7d3a7b8",
   "metadata": {},
   "outputs": [],
   "source": [
    "import pandas as pd"
   ]
  },
  {
   "cell_type": "code",
   "execution_count": 14,
   "id": "d8417cba",
   "metadata": {},
   "outputs": [],
   "source": [
    "df=pd.read_csv(r\"C:\\Users\\Angel\\Desktop\\NotebookAvanzada2\\Precipitaciones.csv\")"
   ]
  },
  {
   "cell_type": "markdown",
   "id": "e3685b76",
   "metadata": {},
   "source": [
    "# Serie es un arreglo unidimencional"
   ]
  },
  {
   "cell_type": "code",
   "execution_count": 15,
   "id": "dc8b05d1",
   "metadata": {},
   "outputs": [
    {
     "data": {
      "text/plain": [
       "0                   A CORUNA\n",
       "1                   ALBACETE\n",
       "2                   ALICANTE\n",
       "3                    ALMERIA\n",
       "4                      ARABA\n",
       "5                   ASTURIAS\n",
       "6                      AVILA\n",
       "7                    BADAJOZ\n",
       "8              ILLES BALEARS\n",
       "9                  BARCELONA\n",
       "10                   BIZKAIA\n",
       "11                    BURGOS\n",
       "12                   CACERES\n",
       "13                     CADIZ\n",
       "14                 CANTABRIA\n",
       "15                 CASTELLON\n",
       "16                     CEUTA\n",
       "17               CIUDAD REAL\n",
       "18                   CORDOBA\n",
       "19                    CUENCA\n",
       "20                  GIPUZKOA\n",
       "21                    GIRONA\n",
       "22                   GRANADA\n",
       "23               GUADALAJARA\n",
       "24                    HUELVA\n",
       "25                    HUESCA\n",
       "26                      JAEN\n",
       "27                  LA RIOJA\n",
       "28                LAS PALMAS\n",
       "29                      LEON\n",
       "30                    LLEIDA\n",
       "31                      LUGO\n",
       "32                    MADRID\n",
       "33                    MALAGA\n",
       "34                   MELILLA\n",
       "35                    MURCIA\n",
       "36                   NAVARRA\n",
       "37                   OURENSE\n",
       "38                  PALENCIA\n",
       "39                PONTEVEDRA\n",
       "40                 SALAMANCA\n",
       "41    SANTA CRUZ DE TENERIFE\n",
       "42                   SEGOVIA\n",
       "43                   SEVILLA\n",
       "44                     SORIA\n",
       "45                 TARRAGONA\n",
       "46                    TERUEL\n",
       "47                    TOLEDO\n",
       "48                  VALENCIA\n",
       "49                VALLADOLID\n",
       "50                    ZAMORA\n",
       "51                  ZARAGOZA\n",
       "Name: region, dtype: object"
      ]
     },
     "execution_count": 15,
     "metadata": {},
     "output_type": "execute_result"
    }
   ],
   "source": [
    "serie=df[\"region\"]\n",
    "serie"
   ]
  },
  {
   "cell_type": "code",
   "execution_count": 16,
   "id": "5702bfd4",
   "metadata": {},
   "outputs": [
    {
     "data": {
      "text/plain": [
       "0     108.9\n",
       "1      50.0\n",
       "2      20.0\n",
       "3      16.9\n",
       "4     107.8\n",
       "5     131.2\n",
       "6      44.4\n",
       "7      29.6\n",
       "8      28.5\n",
       "9      42.3\n",
       "10    124.8\n",
       "11     75.5\n",
       "12     36.2\n",
       "13     12.3\n",
       "14    122.9\n",
       "15     46.1\n",
       "16      2.7\n",
       "17     24.0\n",
       "18     20.7\n",
       "19     59.5\n",
       "20    145.0\n",
       "21     39.9\n",
       "22     15.5\n",
       "23     66.5\n",
       "24     14.5\n",
       "25     71.3\n",
       "26     31.2\n",
       "27     94.8\n",
       "28      1.1\n",
       "29     77.6\n",
       "30     66.9\n",
       "31    101.7\n",
       "32     40.0\n",
       "33      6.4\n",
       "34      3.1\n",
       "35     32.6\n",
       "36     87.9\n",
       "37     86.1\n",
       "38     79.3\n",
       "39     80.7\n",
       "40     50.8\n",
       "41      3.5\n",
       "42     55.6\n",
       "43      8.1\n",
       "44     85.4\n",
       "45     63.8\n",
       "46     72.6\n",
       "47     27.1\n",
       "48     34.2\n",
       "49     58.3\n",
       "50     54.2\n",
       "51     57.5\n",
       "Name: junio, dtype: float64"
      ]
     },
     "execution_count": 16,
     "metadata": {},
     "output_type": "execute_result"
    }
   ],
   "source": [
    "serie=df[\"junio\"]\n",
    "serie"
   ]
  },
  {
   "cell_type": "markdown",
   "id": "e9d841b9",
   "metadata": {},
   "source": [
    "# SERIE ES UN ARREGLO UNIDIMENCIONAL\n"
   ]
  },
  {
   "cell_type": "code",
   "execution_count": 17,
   "id": "958db15f",
   "metadata": {},
   "outputs": [
    {
     "data": {
      "text/plain": [
       "a    10\n",
       "b    20\n",
       "c    30\n",
       "d    40\n",
       "e    50\n",
       "dtype: int64"
      ]
     },
     "execution_count": 17,
     "metadata": {},
     "output_type": "execute_result"
    }
   ],
   "source": [
    "datos=[10,20,30,40,50]\n",
    "serie2=pd.Series(datos, index=[\"a\",\"b\",\"c\",\"d\",\"e\"])\n",
    "serie2"
   ]
  },
  {
   "cell_type": "code",
   "execution_count": 18,
   "id": "b14dd56d",
   "metadata": {},
   "outputs": [
    {
     "data": {
      "text/plain": [
       "1      Enero\n",
       "2    Febrero\n",
       "3      Marzo\n",
       "4      Abril\n",
       "5       Mayo\n",
       "dtype: object"
      ]
     },
     "execution_count": 18,
     "metadata": {},
     "output_type": "execute_result"
    }
   ],
   "source": [
    "datos=[\"Enero\",\"Febrero\",\"Marzo\",\"Abril\",\"Mayo\"]\n",
    "serie3=pd.Series(datos, index=[\"1\",\"2\",\"3\",\"4\",\"5\"])\n",
    "serie3"
   ]
  },
  {
   "cell_type": "code",
   "execution_count": 19,
   "id": "c6845556",
   "metadata": {},
   "outputs": [
    {
     "data": {
      "text/plain": [
       "chile            Santiago\n",
       "argentina    Buenos Aires\n",
       "peru                 Lima\n",
       "dtype: object"
      ]
     },
     "execution_count": 19,
     "metadata": {},
     "output_type": "execute_result"
    }
   ],
   "source": [
    "Capital={\"chile\": \"Santiago\", \"argentina\": \"Buenos Aires\", \"peru\": \"Lima\"}\n",
    "serie4=pd.Series(Capital)\n",
    "serie4"
   ]
  }
 ],
 "metadata": {
  "kernelspec": {
   "display_name": ".venv",
   "language": "python",
   "name": "python3"
  },
  "language_info": {
   "codemirror_mode": {
    "name": "ipython",
    "version": 3
   },
   "file_extension": ".py",
   "mimetype": "text/x-python",
   "name": "python",
   "nbconvert_exporter": "python",
   "pygments_lexer": "ipython3",
   "version": "3.13.3"
  }
 },
 "nbformat": 4,
 "nbformat_minor": 5
}

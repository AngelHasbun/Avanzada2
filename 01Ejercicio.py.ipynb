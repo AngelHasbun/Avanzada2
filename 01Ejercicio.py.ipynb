{
 "cells": [
  {
   "cell_type": "code",
   "execution_count": 8,
   "id": "29ef0c46-da80-470f-b6df-2c6c73050cdc",
   "metadata": {},
   "outputs": [
    {
     "name": "stdout",
     "output_type": "stream",
     "text": [
      "Operacionesa aritmeticas\n",
      "Suma: \n",
      "15\n"
     ]
    }
   ],
   "source": [
    "#Programas que hace aplicaciones aritmeticas\n",
    "print(\"Operacionesa aritmeticas\")\n",
    "\n",
    "a=10\n",
    "b=5\n",
    "print(\"Suma: \")\n",
    "suma=a+b\n",
    "print(suma)\n"
   ]
  },
  {
   "cell_type": "code",
   "execution_count": 9,
   "id": "63bf74df-798e-47d5-9a48-e5b8ffd8892e",
   "metadata": {},
   "outputs": [
    {
     "name": "stdout",
     "output_type": "stream",
     "text": [
      "Resta: \n",
      "5\n"
     ]
    }
   ],
   "source": [
    "print(\"Resta: \")\n",
    "resta=a-b\n",
    "print(resta)"
   ]
  },
  {
   "cell_type": "code",
   "execution_count": 10,
   "id": "f00c330e-f488-4ac8-becc-e1b3ef5ab223",
   "metadata": {},
   "outputs": [
    {
     "name": "stdout",
     "output_type": "stream",
     "text": [
      "Multiplicacion: \n",
      "50\n"
     ]
    }
   ],
   "source": [
    "print(\"Multiplicacion: \")\n",
    "multiplicacion=a*b\n",
    "print(multiplicacion)"
   ]
  },
  {
   "cell_type": "code",
   "execution_count": 11,
   "id": "c9db3b99-f22d-4835-9bc5-609063fcd8d6",
   "metadata": {},
   "outputs": [
    {
     "name": "stdout",
     "output_type": "stream",
     "text": [
      "Division: \n",
      "2.0\n"
     ]
    }
   ],
   "source": [
    "print(\"Division: \")\n",
    "Division=a/b\n",
    "print(Division)\n"
   ]
  },
  {
   "cell_type": "code",
   "execution_count": 19,
   "id": "bb74680e-b033-4036-9bd6-6da5d941551b",
   "metadata": {},
   "outputs": [
    {
     "name": "stdout",
     "output_type": "stream",
     "text": [
      "Raiz Cuadrada: \n",
      "3.1622776601683795\n"
     ]
    }
   ],
   "source": [
    "print(\"Raiz Cuadrada: \")\n",
    "raiz =a**0.5\n",
    "print(raiz)"
   ]
  },
  {
   "cell_type": "code",
   "execution_count": 20,
   "id": "e42fd17c-8c8d-47ed-a24d-1879bf0e3477",
   "metadata": {},
   "outputs": [
    {
     "name": "stdout",
     "output_type": "stream",
     "text": [
      "potencia\n",
      "100000\n"
     ]
    }
   ],
   "source": [
    "print(\"potencia\")\n",
    "potencia=a**b\n",
    "print(potencia)"
   ]
  },
  {
   "cell_type": "code",
   "execution_count": null,
   "id": "3a106681-2cd3-4854-8973-ef20828528d6",
   "metadata": {},
   "outputs": [],
   "source": []
  }
 ],
 "metadata": {
  "kernelspec": {
   "display_name": "Python 3 (ipykernel)",
   "language": "python",
   "name": "python3"
  },
  "language_info": {
   "codemirror_mode": {
    "name": "ipython",
    "version": 3
   },
   "file_extension": ".py",
   "mimetype": "text/x-python",
   "name": "python",
   "nbconvert_exporter": "python",
   "pygments_lexer": "ipython3",
   "version": "3.12.7"
  }
 },
 "nbformat": 4,
 "nbformat_minor": 5
}

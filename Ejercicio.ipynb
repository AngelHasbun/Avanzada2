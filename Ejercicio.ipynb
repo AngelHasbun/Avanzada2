{
 "cells": [
  {
   "cell_type": "code",
   "execution_count": 16,
   "id": "9a4f28f7",
   "metadata": {},
   "outputs": [],
   "source": [
    "#guardar los siguientes valores de una tubla, el valor de la gravedad y el valor de la ingravidez.\n",
    "#calcular la velocidad de caída libre y desplazamiento"
   ]
  },
  {
   "cell_type": "code",
   "execution_count": 17,
   "id": "ae1ca2af",
   "metadata": {},
   "outputs": [],
   "source": [
    "vInicial = 10\n",
    "tiempo = 5\n",
    "gravedades=(9.81, 0.0)"
   ]
  },
  {
   "cell_type": "code",
   "execution_count": 18,
   "id": "31b329d6",
   "metadata": {},
   "outputs": [],
   "source": [
    "vgravedad=vInicial + gravedades[0] * tiempo\n",
    "vgravedad=vInicial*tiempo + (gravedades[0] * tiempo**2) / 2"
   ]
  },
  {
   "cell_type": "code",
   "execution_count": 19,
   "id": "7d1a49fc",
   "metadata": {},
   "outputs": [],
   "source": [
    "\n",
    "vingravidez=vInicial + gravedades[1] * tiempo\n",
    "vingravidez=vInicial*tiempo + (gravedades[1] * tiempo**2) / 2"
   ]
  },
  {
   "cell_type": "code",
   "execution_count": 20,
   "id": "7e72f9ed",
   "metadata": {},
   "outputs": [],
   "source": [
    "fisica = {\"velocidad Inicial\": vInicial,\n",
    "          \"tiempo\": tiempo,\n",
    "          \"gravedad\": gravedades[0],\n",
    "          \"ingravidez\": gravedades[1],\n",
    "          \"velocidad_gravedad\": vgravedad,\n",
    "          \"velocidad_ingravidez\": vingravidez}"
   ]
  },
  {
   "cell_type": "code",
   "execution_count": 21,
   "id": "0be2b99c",
   "metadata": {},
   "outputs": [
    {
     "name": "stdout",
     "output_type": "stream",
     "text": [
      "{'velocidad Inicial': 10, 'tiempo': 5, 'gravedad': 9.81, 'ingravidez': 0.0, 'velocidad_gravedad': 172.625, 'velocidad_ingravidez': 50.0}\n",
      "velocidad Inicial: 10\n",
      "tiempo: 5\n",
      "gravedad: 9.81\n",
      "ingravidez: 0.0\n",
      "velocidad_gravedad: 172.625\n",
      "velocidad_ingravidez: 50.0\n"
     ]
    }
   ],
   "source": [
    "print(fisica)\n",
    "for key, value in fisica.items():\n",
    "    print(f\"{key}: {value}\")"
   ]
  }
 ],
 "metadata": {
  "kernelspec": {
   "display_name": ".venv",
   "language": "python",
   "name": "python3"
  },
  "language_info": {
   "codemirror_mode": {
    "name": "ipython",
    "version": 3
   },
   "file_extension": ".py",
   "mimetype": "text/x-python",
   "name": "python",
   "nbconvert_exporter": "python",
   "pygments_lexer": "ipython3",
   "version": "3.13.3"
  }
 },
 "nbformat": 4,
 "nbformat_minor": 5
}
